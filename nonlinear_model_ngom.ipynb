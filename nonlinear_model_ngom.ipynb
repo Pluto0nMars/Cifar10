{
 "cells": [
  {
   "cell_type": "code",
   "execution_count": 1,
   "metadata": {
    "id": "6WYejjeyPR9q"
   },
   "outputs": [],
   "source": [
    "%matplotlib inline\n",
    "\n",
    "import tensorflow as tf\n",
    "\n",
    "import numpy as np\n",
    "import matplotlib.pyplot as plt\n",
    "from sklearn.model_selection import train_test_split  # Import train_test_split\n",
    "import time\n",
    "import ssl\n",
    "ssl._create_default_https_context = ssl._create_unverified_context"
   ]
  },
  {
   "cell_type": "code",
   "execution_count": 2,
   "metadata": {
    "colab": {
     "base_uri": "https://localhost:8080/"
    },
    "id": "_gGopNjCPVvp",
    "outputId": "b829a5c7-51e3-4007-cfe9-3be15dad8339"
   },
   "outputs": [],
   "source": [
    "DATASET_SIZE = 70000\n",
    "TRAIN_RATIO = 0.7\n",
    "VALIDATION_RATIO = 0.2\n",
    "TEST_RATIO = 0.1\n",
    "\n",
    "(x_train, y_train), (x_test, y_test) = tf.keras.datasets.cifar10.load_data()\n",
    "\n",
    "X = np.concatenate([x_train, x_test])\n",
    "y = np.concatenate([y_train, y_test])\n",
    "\n",
    "x_train, x_val, y_train, y_val = train_test_split(X, y, test_size=(1-TRAIN_RATIO))\n",
    "x_val, x_test, y_val, y_test = train_test_split(x_val, y_val, test_size=((TEST_RATIO/(VALIDATION_RATIO+TEST_RATIO))))"
   ]
  },
  {
   "cell_type": "code",
   "execution_count": 3,
   "metadata": {
    "id": "D5HtttDfOxxM"
   },
   "outputs": [],
   "source": [
    "x_train = x_train.reshape((x_train.shape[0], -1))\n",
    "x_val = x_val.reshape((x_val.shape[0], -1))\n",
    "x_test = x_test.reshape((x_test.shape[0], -1))\n",
    "y_train = y_train.reshape((y_train.shape[0], -1))\n",
    "y_val = y_val.reshape((y_val.shape[0], -1))\n",
    "y_test = y_test.reshape((y_test.shape[0], -1))\n"
   ]
  },
  {
   "cell_type": "code",
   "execution_count": 4,
   "metadata": {
    "colab": {
     "base_uri": "https://localhost:8080/"
    },
    "id": "iaRMDBrZSSkK",
    "outputId": "a170df3a-9748-4c9e-90b0-9463a36dc166"
   },
   "outputs": [
    {
     "name": "stdout",
     "output_type": "stream",
     "text": [
      "Training data shape (X): (41999, 3072)\n",
      "Training labels shape (y): (41999, 1)\n",
      "Test data shape (X): (6001, 3072)\n",
      "Test labels shape (y): (6001, 1)\n",
      "Validation data shape (X): (12000, 3072)\n",
      "Validation labels shape (y): (12000, 1)\n"
     ]
    }
   ],
   "source": [
    "print(\"Training data shape (X):\", x_train.shape)\n",
    "print(\"Training labels shape (y):\", y_train.shape)\n",
    "print(\"Test data shape (X):\", x_test.shape)\n",
    "print(\"Test labels shape (y):\", y_test.shape)\n",
    "print(\"Validation data shape (X):\", x_val.shape)\n",
    "print(\"Validation labels shape (y):\", y_val.shape)"
   ]
  },
  {
   "cell_type": "code",
   "execution_count": 5,
   "metadata": {
    "colab": {
     "base_uri": "https://localhost:8080/",
     "height": 441
    },
    "id": "cOC2ZdA4PdUH",
    "outputId": "bd9b7bf2-12ae-4d54-865c-5c92a4d46339"
   },
   "outputs": [],
   "source": [
    "# reshape images to RGB scale with width & height are size 32\n",
    "x_train = x_train.reshape(x_train.shape[0], 32 * 32 * 3)\n",
    "x_val = x_val.reshape(x_val.shape[0], 32 * 32 * 3)\n",
    "x_test = x_test.reshape(x_test.shape[0], 32 * 32 * 3)\n",
    "\n",
    "# normalization to avoid gradient explode or vanish\n",
    "x_train = x_train.astype(\"float32\")\n",
    "x_val = x_val.astype(\"float32\")\n",
    "x_test = x_test.astype(\"float32\")\n",
    "x_train /= 255.0\n",
    "x_test /= 255.0\n",
    "x_val /= 255.0\n",
    "\n",
    "# convert class into one hot encoder\n",
    "y_train = tf.keras.utils.to_categorical(y_train, 10) # np_utils.to_categorical(y_train, 10)\n",
    "y_test = tf.keras.utils.to_categorical(y_test, 10) #np_utils.to_categorical(y_test, 10)\n",
    "y_val = tf.keras.utils.to_categorical(y_val, 10)"
   ]
  },
  {
   "cell_type": "code",
   "execution_count": 6,
   "metadata": {
    "id": "8L_19V4UPvTb"
   },
   "outputs": [],
   "source": [
    "class NonlinearClassifier(tf.keras.models.Model):\n",
    "\n",
    "    def __init__(self, activation=tf.nn.tanh):\n",
    "        tf.keras.models.Model.__init__(self)\n",
    "\n",
    "        self.layer_1 = tf.keras.layers.Dense(64, activation='relu')\n",
    "        self.drop_2 = tf.keras.layers.Dropout(0.2)\n",
    "        self.layer_2 = tf.keras.layers.Dense(64, activation='relu')\n",
    "        self.drop_3 = tf.keras.layers.Dropout(0.2)\n",
    "        self.layer_3 = tf.keras.layers.Dense(64, activation='relu')\n",
    "        self.drop_4 = tf.keras.layers.Dropout(0.2)\n",
    "        self.layer_4 = tf.keras.layers.Dense(64, activation='relu')\n",
    "        self.drop_5 = tf.keras.layers.Dropout(0.2)\n",
    "\n",
    "        # The last layer needs to be like this:\n",
    "        self.layer_out = tf.keras.layers.Dense(10, activation='softmax')\n",
    "\n",
    "    def call(self, inputs):\n",
    "\n",
    "        x = tf.keras.layers.Flatten()(inputs)\n",
    "        x = self.layer_1(x)\n",
    "        x = self.drop_2(x)\n",
    "        # The more complex version:\n",
    "        x = self.layer_2(x)\n",
    "     #   x = self.drop_3(x)\n",
    "        x = self.layer_3(x)\n",
    "        x = self.drop_4(x)\n",
    "        x = self.layer_4(x)\n",
    "        x = self.drop_5(x)\n",
    "\n",
    "\n",
    "        x = self.layer_out(x)\n",
    "\n",
    "        return x"
   ]
  },
  {
   "cell_type": "code",
   "execution_count": 7,
   "metadata": {
    "id": "WE2tlGk8PoY6"
   },
   "outputs": [
    {
     "data": {
      "text/html": [
       "<pre style=\"white-space:pre;overflow-x:auto;line-height:normal;font-family:Menlo,'DejaVu Sans Mono',consolas,'Courier New',monospace\"><span style=\"font-weight: bold\">Model: \"nonlinear_classifier\"</span>\n",
       "</pre>\n"
      ],
      "text/plain": [
       "\u001b[1mModel: \"nonlinear_classifier\"\u001b[0m\n"
      ]
     },
     "metadata": {},
     "output_type": "display_data"
    },
    {
     "data": {
      "text/html": [
       "<pre style=\"white-space:pre;overflow-x:auto;line-height:normal;font-family:Menlo,'DejaVu Sans Mono',consolas,'Courier New',monospace\">┏━━━━━━━━━━━━━━━━━━━━━━━━━━━━━━━━━┳━━━━━━━━━━━━━━━━━━━━━━━━┳━━━━━━━━━━━━━━━┓\n",
       "┃<span style=\"font-weight: bold\"> Layer (type)                    </span>┃<span style=\"font-weight: bold\"> Output Shape           </span>┃<span style=\"font-weight: bold\">       Param # </span>┃\n",
       "┡━━━━━━━━━━━━━━━━━━━━━━━━━━━━━━━━━╇━━━━━━━━━━━━━━━━━━━━━━━━╇━━━━━━━━━━━━━━━┩\n",
       "│ dense (<span style=\"color: #0087ff; text-decoration-color: #0087ff\">Dense</span>)                   │ ?                      │   <span style=\"color: #00af00; text-decoration-color: #00af00\">0</span> (unbuilt) │\n",
       "├─────────────────────────────────┼────────────────────────┼───────────────┤\n",
       "│ dropout (<span style=\"color: #0087ff; text-decoration-color: #0087ff\">Dropout</span>)               │ ?                      │   <span style=\"color: #00af00; text-decoration-color: #00af00\">0</span> (unbuilt) │\n",
       "├─────────────────────────────────┼────────────────────────┼───────────────┤\n",
       "│ dense_1 (<span style=\"color: #0087ff; text-decoration-color: #0087ff\">Dense</span>)                 │ ?                      │   <span style=\"color: #00af00; text-decoration-color: #00af00\">0</span> (unbuilt) │\n",
       "├─────────────────────────────────┼────────────────────────┼───────────────┤\n",
       "│ dropout_1 (<span style=\"color: #0087ff; text-decoration-color: #0087ff\">Dropout</span>)             │ ?                      │   <span style=\"color: #00af00; text-decoration-color: #00af00\">0</span> (unbuilt) │\n",
       "├─────────────────────────────────┼────────────────────────┼───────────────┤\n",
       "│ dense_2 (<span style=\"color: #0087ff; text-decoration-color: #0087ff\">Dense</span>)                 │ ?                      │   <span style=\"color: #00af00; text-decoration-color: #00af00\">0</span> (unbuilt) │\n",
       "├─────────────────────────────────┼────────────────────────┼───────────────┤\n",
       "│ dropout_2 (<span style=\"color: #0087ff; text-decoration-color: #0087ff\">Dropout</span>)             │ ?                      │   <span style=\"color: #00af00; text-decoration-color: #00af00\">0</span> (unbuilt) │\n",
       "├─────────────────────────────────┼────────────────────────┼───────────────┤\n",
       "│ dense_3 (<span style=\"color: #0087ff; text-decoration-color: #0087ff\">Dense</span>)                 │ ?                      │   <span style=\"color: #00af00; text-decoration-color: #00af00\">0</span> (unbuilt) │\n",
       "├─────────────────────────────────┼────────────────────────┼───────────────┤\n",
       "│ dropout_3 (<span style=\"color: #0087ff; text-decoration-color: #0087ff\">Dropout</span>)             │ ?                      │   <span style=\"color: #00af00; text-decoration-color: #00af00\">0</span> (unbuilt) │\n",
       "├─────────────────────────────────┼────────────────────────┼───────────────┤\n",
       "│ dense_4 (<span style=\"color: #0087ff; text-decoration-color: #0087ff\">Dense</span>)                 │ ?                      │   <span style=\"color: #00af00; text-decoration-color: #00af00\">0</span> (unbuilt) │\n",
       "└─────────────────────────────────┴────────────────────────┴───────────────┘\n",
       "</pre>\n"
      ],
      "text/plain": [
       "┏━━━━━━━━━━━━━━━━━━━━━━━━━━━━━━━━━┳━━━━━━━━━━━━━━━━━━━━━━━━┳━━━━━━━━━━━━━━━┓\n",
       "┃\u001b[1m \u001b[0m\u001b[1mLayer (type)                   \u001b[0m\u001b[1m \u001b[0m┃\u001b[1m \u001b[0m\u001b[1mOutput Shape          \u001b[0m\u001b[1m \u001b[0m┃\u001b[1m \u001b[0m\u001b[1m      Param #\u001b[0m\u001b[1m \u001b[0m┃\n",
       "┡━━━━━━━━━━━━━━━━━━━━━━━━━━━━━━━━━╇━━━━━━━━━━━━━━━━━━━━━━━━╇━━━━━━━━━━━━━━━┩\n",
       "│ dense (\u001b[38;5;33mDense\u001b[0m)                   │ ?                      │   \u001b[38;5;34m0\u001b[0m (unbuilt) │\n",
       "├─────────────────────────────────┼────────────────────────┼───────────────┤\n",
       "│ dropout (\u001b[38;5;33mDropout\u001b[0m)               │ ?                      │   \u001b[38;5;34m0\u001b[0m (unbuilt) │\n",
       "├─────────────────────────────────┼────────────────────────┼───────────────┤\n",
       "│ dense_1 (\u001b[38;5;33mDense\u001b[0m)                 │ ?                      │   \u001b[38;5;34m0\u001b[0m (unbuilt) │\n",
       "├─────────────────────────────────┼────────────────────────┼───────────────┤\n",
       "│ dropout_1 (\u001b[38;5;33mDropout\u001b[0m)             │ ?                      │   \u001b[38;5;34m0\u001b[0m (unbuilt) │\n",
       "├─────────────────────────────────┼────────────────────────┼───────────────┤\n",
       "│ dense_2 (\u001b[38;5;33mDense\u001b[0m)                 │ ?                      │   \u001b[38;5;34m0\u001b[0m (unbuilt) │\n",
       "├─────────────────────────────────┼────────────────────────┼───────────────┤\n",
       "│ dropout_2 (\u001b[38;5;33mDropout\u001b[0m)             │ ?                      │   \u001b[38;5;34m0\u001b[0m (unbuilt) │\n",
       "├─────────────────────────────────┼────────────────────────┼───────────────┤\n",
       "│ dense_3 (\u001b[38;5;33mDense\u001b[0m)                 │ ?                      │   \u001b[38;5;34m0\u001b[0m (unbuilt) │\n",
       "├─────────────────────────────────┼────────────────────────┼───────────────┤\n",
       "│ dropout_3 (\u001b[38;5;33mDropout\u001b[0m)             │ ?                      │   \u001b[38;5;34m0\u001b[0m (unbuilt) │\n",
       "├─────────────────────────────────┼────────────────────────┼───────────────┤\n",
       "│ dense_4 (\u001b[38;5;33mDense\u001b[0m)                 │ ?                      │   \u001b[38;5;34m0\u001b[0m (unbuilt) │\n",
       "└─────────────────────────────────┴────────────────────────┴───────────────┘\n"
      ]
     },
     "metadata": {},
     "output_type": "display_data"
    },
    {
     "data": {
      "text/html": [
       "<pre style=\"white-space:pre;overflow-x:auto;line-height:normal;font-family:Menlo,'DejaVu Sans Mono',consolas,'Courier New',monospace\"><span style=\"font-weight: bold\"> Total params: </span><span style=\"color: #00af00; text-decoration-color: #00af00\">0</span> (0.00 B)\n",
       "</pre>\n"
      ],
      "text/plain": [
       "\u001b[1m Total params: \u001b[0m\u001b[38;5;34m0\u001b[0m (0.00 B)\n"
      ]
     },
     "metadata": {},
     "output_type": "display_data"
    },
    {
     "data": {
      "text/html": [
       "<pre style=\"white-space:pre;overflow-x:auto;line-height:normal;font-family:Menlo,'DejaVu Sans Mono',consolas,'Courier New',monospace\"><span style=\"font-weight: bold\"> Trainable params: </span><span style=\"color: #00af00; text-decoration-color: #00af00\">0</span> (0.00 B)\n",
       "</pre>\n"
      ],
      "text/plain": [
       "\u001b[1m Trainable params: \u001b[0m\u001b[38;5;34m0\u001b[0m (0.00 B)\n"
      ]
     },
     "metadata": {},
     "output_type": "display_data"
    },
    {
     "data": {
      "text/html": [
       "<pre style=\"white-space:pre;overflow-x:auto;line-height:normal;font-family:Menlo,'DejaVu Sans Mono',consolas,'Courier New',monospace\"><span style=\"font-weight: bold\"> Non-trainable params: </span><span style=\"color: #00af00; text-decoration-color: #00af00\">0</span> (0.00 B)\n",
       "</pre>\n"
      ],
      "text/plain": [
       "\u001b[1m Non-trainable params: \u001b[0m\u001b[38;5;34m0\u001b[0m (0.00 B)\n"
      ]
     },
     "metadata": {},
     "output_type": "display_data"
    }
   ],
   "source": [
    "nonlinear_model = NonlinearClassifier()\n",
    "optimizer = tf.keras.optimizers.Adam(learning_rate= 0.001)\n",
    "# Compile the model using the configured optimizer\n",
    "nonlinear_model.compile(optimizer=optimizer)\n",
    "nonlinear_model.compile(loss=\"categorical_crossentropy\",\n",
    "                        optimizer=optimizer,\n",
    "                        metrics=['accuracy'])\n",
    "nonlinear_model.summary()"
   ]
  },
  {
   "cell_type": "code",
   "execution_count": 8,
   "metadata": {
    "colab": {
     "base_uri": "https://localhost:8080/"
    },
    "id": "MxkKcVizP8xe",
    "outputId": "8cc55070-5f61-4178-9374-be5f22e672c3"
   },
   "outputs": [
    {
     "name": "stdout",
     "output_type": "stream",
     "text": [
      "Epoch 1/30\n"
     ]
    },
    {
     "name": "stderr",
     "output_type": "stream",
     "text": [
      "/Library/Frameworks/Python.framework/Versions/3.11/lib/python3.11/site-packages/keras/src/layers/layer.py:372: UserWarning: `build()` was called on layer 'nonlinear_classifier', however the layer does not have a `build()` method implemented and it looks like it has unbuilt state. This will cause the layer to be marked as built, despite not being actually built, which may cause failures down the line. Make sure to implement a proper `build()` method.\n",
      "  warnings.warn(\n"
     ]
    },
    {
     "name": "stdout",
     "output_type": "stream",
     "text": [
      "165/165 - 1s - 7ms/step - accuracy: 0.2858 - loss: 1.9582 - val_accuracy: 0.3347 - val_loss: 1.8389\n",
      "Epoch 2/30\n",
      "165/165 - 0s - 3ms/step - accuracy: 0.3682 - loss: 1.7609 - val_accuracy: 0.3781 - val_loss: 1.7331\n",
      "Epoch 3/30\n",
      "165/165 - 0s - 3ms/step - accuracy: 0.3997 - loss: 1.6794 - val_accuracy: 0.3412 - val_loss: 1.8268\n",
      "Epoch 4/30\n",
      "165/165 - 0s - 3ms/step - accuracy: 0.4139 - loss: 1.6465 - val_accuracy: 0.3982 - val_loss: 1.6761\n",
      "Epoch 5/30\n",
      "165/165 - 0s - 3ms/step - accuracy: 0.4301 - loss: 1.5936 - val_accuracy: 0.3663 - val_loss: 1.7826\n",
      "Epoch 6/30\n",
      "165/165 - 0s - 3ms/step - accuracy: 0.4425 - loss: 1.5688 - val_accuracy: 0.4218 - val_loss: 1.6165\n",
      "Epoch 7/30\n",
      "165/165 - 0s - 3ms/step - accuracy: 0.4517 - loss: 1.5384 - val_accuracy: 0.4039 - val_loss: 1.6984\n",
      "Epoch 8/30\n",
      "165/165 - 0s - 3ms/step - accuracy: 0.4570 - loss: 1.5230 - val_accuracy: 0.3965 - val_loss: 1.6958\n",
      "Epoch 9/30\n",
      "165/165 - 0s - 3ms/step - accuracy: 0.4689 - loss: 1.4952 - val_accuracy: 0.4383 - val_loss: 1.5821\n",
      "Epoch 10/30\n",
      "165/165 - 0s - 3ms/step - accuracy: 0.4762 - loss: 1.4717 - val_accuracy: 0.4263 - val_loss: 1.6478\n",
      "Epoch 11/30\n",
      "165/165 - 0s - 3ms/step - accuracy: 0.4777 - loss: 1.4627 - val_accuracy: 0.4417 - val_loss: 1.5819\n",
      "Epoch 12/30\n",
      "165/165 - 0s - 3ms/step - accuracy: 0.4848 - loss: 1.4449 - val_accuracy: 0.4458 - val_loss: 1.5788\n",
      "Epoch 13/30\n",
      "165/165 - 0s - 3ms/step - accuracy: 0.4886 - loss: 1.4374 - val_accuracy: 0.4545 - val_loss: 1.5384\n",
      "Epoch 14/30\n",
      "165/165 - 0s - 3ms/step - accuracy: 0.4950 - loss: 1.4183 - val_accuracy: 0.4682 - val_loss: 1.5083\n",
      "Epoch 15/30\n",
      "165/165 - 0s - 3ms/step - accuracy: 0.4972 - loss: 1.4116 - val_accuracy: 0.4578 - val_loss: 1.5363\n",
      "Epoch 16/30\n",
      "165/165 - 0s - 3ms/step - accuracy: 0.5018 - loss: 1.3965 - val_accuracy: 0.4595 - val_loss: 1.5257\n",
      "Epoch 17/30\n",
      "165/165 - 0s - 3ms/step - accuracy: 0.5013 - loss: 1.3962 - val_accuracy: 0.4618 - val_loss: 1.5102\n",
      "Epoch 18/30\n",
      "165/165 - 0s - 3ms/step - accuracy: 0.5084 - loss: 1.3766 - val_accuracy: 0.4680 - val_loss: 1.5039\n",
      "Epoch 19/30\n",
      "165/165 - 0s - 3ms/step - accuracy: 0.5088 - loss: 1.3725 - val_accuracy: 0.4453 - val_loss: 1.5691\n",
      "Epoch 20/30\n",
      "165/165 - 0s - 3ms/step - accuracy: 0.5129 - loss: 1.3689 - val_accuracy: 0.4513 - val_loss: 1.5348\n",
      "Epoch 21/30\n",
      "165/165 - 0s - 3ms/step - accuracy: 0.5193 - loss: 1.3537 - val_accuracy: 0.4706 - val_loss: 1.5075\n",
      "Epoch 22/30\n",
      "165/165 - 0s - 3ms/step - accuracy: 0.5193 - loss: 1.3500 - val_accuracy: 0.4488 - val_loss: 1.5457\n",
      "Epoch 23/30\n",
      "165/165 - 0s - 3ms/step - accuracy: 0.5190 - loss: 1.3433 - val_accuracy: 0.4652 - val_loss: 1.5257\n",
      "Epoch 24/30\n",
      "165/165 - 0s - 3ms/step - accuracy: 0.5247 - loss: 1.3326 - val_accuracy: 0.4562 - val_loss: 1.5623\n",
      "Epoch 25/30\n",
      "165/165 - 0s - 3ms/step - accuracy: 0.5253 - loss: 1.3316 - val_accuracy: 0.4520 - val_loss: 1.5758\n",
      "Epoch 26/30\n",
      "165/165 - 0s - 3ms/step - accuracy: 0.5297 - loss: 1.3170 - val_accuracy: 0.4697 - val_loss: 1.5044\n",
      "Epoch 27/30\n",
      "165/165 - 0s - 3ms/step - accuracy: 0.5312 - loss: 1.3129 - val_accuracy: 0.4719 - val_loss: 1.4955\n",
      "Epoch 28/30\n",
      "165/165 - 0s - 3ms/step - accuracy: 0.5340 - loss: 1.3087 - val_accuracy: 0.4582 - val_loss: 1.5309\n",
      "Epoch 29/30\n",
      "165/165 - 0s - 3ms/step - accuracy: 0.5363 - loss: 1.3009 - val_accuracy: 0.4534 - val_loss: 1.6140\n",
      "Epoch 30/30\n",
      "165/165 - 0s - 3ms/step - accuracy: 0.5387 - loss: 1.2938 - val_accuracy: 0.4873 - val_loss: 1.4710\n",
      "CPU times: user 36.8 s, sys: 10.7 s, total: 47.5 s\n",
      "Wall time: 14.3 s\n"
     ]
    }
   ],
   "source": [
    "%%time\n",
    "\n",
    "epochs = 30\n",
    "batch_size = 256\n",
    "\n",
    "history = nonlinear_model.fit(x_train, y_train, batch_size=batch_size, epochs=epochs, verbose=2,validation_data=(x_val, y_val))"
   ]
  },
  {
   "cell_type": "code",
   "execution_count": 9,
   "metadata": {
    "colab": {
     "base_uri": "https://localhost:8080/"
    },
    "id": "HGpmMnYbTKfC",
    "outputId": "b0163ce9-2fc3-4564-ae10-a0f494b348f3"
   },
   "outputs": [
    {
     "name": "stdout",
     "output_type": "stream",
     "text": [
      "Epoch 1/30\n",
      "40/40 - 0s - 5ms/step - accuracy: 0.4814 - loss: 1.4759 - val_accuracy: 0.4960 - val_loss: 1.4227\n",
      "Epoch 2/30\n",
      "40/40 - 0s - 4ms/step - accuracy: 0.4917 - loss: 1.4277 - val_accuracy: 0.5058 - val_loss: 1.3888\n",
      "Epoch 3/30\n",
      "40/40 - 0s - 5ms/step - accuracy: 0.5009 - loss: 1.4065 - val_accuracy: 0.4981 - val_loss: 1.3963\n",
      "Epoch 4/30\n",
      "40/40 - 0s - 4ms/step - accuracy: 0.5077 - loss: 1.3878 - val_accuracy: 0.5135 - val_loss: 1.3698\n",
      "Epoch 5/30\n",
      "40/40 - 0s - 4ms/step - accuracy: 0.5132 - loss: 1.3744 - val_accuracy: 0.5145 - val_loss: 1.3527\n",
      "Epoch 6/30\n",
      "40/40 - 0s - 4ms/step - accuracy: 0.5165 - loss: 1.3569 - val_accuracy: 0.5244 - val_loss: 1.3363\n",
      "Epoch 7/30\n",
      "40/40 - 0s - 4ms/step - accuracy: 0.5204 - loss: 1.3404 - val_accuracy: 0.5265 - val_loss: 1.3186\n",
      "Epoch 8/30\n",
      "40/40 - 0s - 4ms/step - accuracy: 0.5204 - loss: 1.3388 - val_accuracy: 0.5320 - val_loss: 1.3057\n",
      "Epoch 9/30\n",
      "40/40 - 0s - 4ms/step - accuracy: 0.5171 - loss: 1.3412 - val_accuracy: 0.5173 - val_loss: 1.3405\n",
      "Epoch 10/30\n",
      "40/40 - 0s - 4ms/step - accuracy: 0.5297 - loss: 1.3116 - val_accuracy: 0.5353 - val_loss: 1.2976\n",
      "Epoch 11/30\n",
      "40/40 - 0s - 4ms/step - accuracy: 0.5381 - loss: 1.2955 - val_accuracy: 0.5443 - val_loss: 1.2764\n",
      "Epoch 12/30\n",
      "40/40 - 0s - 4ms/step - accuracy: 0.5436 - loss: 1.2786 - val_accuracy: 0.5556 - val_loss: 1.2521\n",
      "Epoch 13/30\n",
      "40/40 - 0s - 4ms/step - accuracy: 0.5487 - loss: 1.2761 - val_accuracy: 0.5556 - val_loss: 1.2492\n",
      "Epoch 14/30\n",
      "40/40 - 0s - 4ms/step - accuracy: 0.5500 - loss: 1.2671 - val_accuracy: 0.5577 - val_loss: 1.2425\n",
      "Epoch 15/30\n",
      "40/40 - 0s - 4ms/step - accuracy: 0.5513 - loss: 1.2576 - val_accuracy: 0.5592 - val_loss: 1.2394\n",
      "Epoch 16/30\n",
      "40/40 - 0s - 4ms/step - accuracy: 0.5548 - loss: 1.2477 - val_accuracy: 0.5653 - val_loss: 1.2180\n",
      "Epoch 17/30\n",
      "40/40 - 0s - 4ms/step - accuracy: 0.5568 - loss: 1.2310 - val_accuracy: 0.5608 - val_loss: 1.2356\n",
      "Epoch 18/30\n",
      "40/40 - 0s - 4ms/step - accuracy: 0.5608 - loss: 1.2324 - val_accuracy: 0.5632 - val_loss: 1.2336\n",
      "Epoch 19/30\n",
      "40/40 - 0s - 4ms/step - accuracy: 0.5677 - loss: 1.2195 - val_accuracy: 0.5807 - val_loss: 1.1874\n",
      "Epoch 20/30\n",
      "40/40 - 0s - 4ms/step - accuracy: 0.5738 - loss: 1.1985 - val_accuracy: 0.5680 - val_loss: 1.2124\n",
      "Epoch 21/30\n",
      "40/40 - 0s - 4ms/step - accuracy: 0.5726 - loss: 1.1976 - val_accuracy: 0.5812 - val_loss: 1.1861\n",
      "Epoch 22/30\n",
      "40/40 - 0s - 4ms/step - accuracy: 0.5674 - loss: 1.2052 - val_accuracy: 0.5911 - val_loss: 1.1439\n",
      "Epoch 23/30\n",
      "40/40 - 0s - 4ms/step - accuracy: 0.5799 - loss: 1.1745 - val_accuracy: 0.5956 - val_loss: 1.1515\n",
      "Epoch 24/30\n",
      "40/40 - 0s - 4ms/step - accuracy: 0.5788 - loss: 1.1695 - val_accuracy: 0.5877 - val_loss: 1.1515\n",
      "Epoch 25/30\n",
      "40/40 - 0s - 4ms/step - accuracy: 0.5881 - loss: 1.1578 - val_accuracy: 0.5982 - val_loss: 1.1282\n",
      "Epoch 26/30\n",
      "40/40 - 0s - 4ms/step - accuracy: 0.5798 - loss: 1.1709 - val_accuracy: 0.5658 - val_loss: 1.2118\n",
      "Epoch 27/30\n",
      "40/40 - 0s - 4ms/step - accuracy: 0.5872 - loss: 1.1576 - val_accuracy: 0.5987 - val_loss: 1.1309\n",
      "Epoch 28/30\n",
      "40/40 - 0s - 4ms/step - accuracy: 0.5826 - loss: 1.1609 - val_accuracy: 0.5946 - val_loss: 1.1353\n",
      "Epoch 29/30\n",
      "40/40 - 0s - 4ms/step - accuracy: 0.5962 - loss: 1.1316 - val_accuracy: 0.6106 - val_loss: 1.0906\n",
      "Epoch 30/30\n",
      "40/40 - 0s - 4ms/step - accuracy: 0.5974 - loss: 1.1291 - val_accuracy: 0.6098 - val_loss: 1.1065\n",
      "CPU times: user 13.2 s, sys: 3.56 s, total: 16.8 s\n",
      "Wall time: 5.02 s\n"
     ]
    }
   ],
   "source": [
    "%%time\n",
    "\n",
    "epochs = 30\n",
    "batch_size = 300\n",
    "\n",
    "history = nonlinear_model.fit(x_val, y_val, batch_size=batch_size, epochs=epochs, verbose=2, validation_data=(x_val, y_val))"
   ]
  },
  {
   "cell_type": "code",
   "execution_count": 10,
   "metadata": {
    "colab": {
     "base_uri": "https://localhost:8080/"
    },
    "id": "42mWX0tuX9qf",
    "outputId": "8c198d27-1ebe-415c-e6b4-4feb93692bf4"
   },
   "outputs": [
    {
     "name": "stdout",
     "output_type": "stream",
     "text": [
      "Epoch 1/30\n",
      "21/21 - 0s - 7ms/step - accuracy: 0.4726 - loss: 1.5300 - val_accuracy: 0.5665 - val_loss: 1.2034\n",
      "Epoch 2/30\n",
      "21/21 - 0s - 5ms/step - accuracy: 0.4751 - loss: 1.4834 - val_accuracy: 0.5543 - val_loss: 1.2387\n",
      "Epoch 3/30\n",
      "21/21 - 0s - 5ms/step - accuracy: 0.4878 - loss: 1.4674 - val_accuracy: 0.4310 - val_loss: 1.5826\n",
      "Epoch 4/30\n",
      "21/21 - 0s - 5ms/step - accuracy: 0.3671 - loss: 1.8303 - val_accuracy: 0.3478 - val_loss: 1.8784\n",
      "Epoch 5/30\n",
      "21/21 - 0s - 5ms/step - accuracy: 0.2885 - loss: 2.0424 - val_accuracy: 0.3403 - val_loss: 1.7920\n",
      "Epoch 6/30\n",
      "21/21 - 0s - 5ms/step - accuracy: 0.3529 - loss: 1.7871 - val_accuracy: 0.3480 - val_loss: 1.8793\n",
      "Epoch 7/30\n",
      "21/21 - 0s - 5ms/step - accuracy: 0.2795 - loss: 2.0715 - val_accuracy: 0.2915 - val_loss: 1.8899\n",
      "Epoch 8/30\n",
      "21/21 - 0s - 5ms/step - accuracy: 0.3306 - loss: 1.8283 - val_accuracy: 0.3467 - val_loss: 1.7768\n",
      "Epoch 9/30\n",
      "21/21 - 0s - 5ms/step - accuracy: 0.3704 - loss: 1.7816 - val_accuracy: 0.3882 - val_loss: 1.6898\n",
      "Epoch 10/30\n",
      "21/21 - 0s - 5ms/step - accuracy: 0.4304 - loss: 1.6127 - val_accuracy: 0.3947 - val_loss: 1.7106\n",
      "Epoch 11/30\n",
      "21/21 - 0s - 5ms/step - accuracy: 0.3344 - loss: 1.8873 - val_accuracy: 0.3152 - val_loss: 1.8846\n",
      "Epoch 12/30\n",
      "21/21 - 0s - 5ms/step - accuracy: 0.3324 - loss: 1.8533 - val_accuracy: 0.3359 - val_loss: 1.8355\n",
      "Epoch 13/30\n",
      "21/21 - 0s - 5ms/step - accuracy: 0.3318 - loss: 1.8480 - val_accuracy: 0.3893 - val_loss: 1.6908\n",
      "Epoch 14/30\n",
      "21/21 - 0s - 5ms/step - accuracy: 0.4073 - loss: 1.6588 - val_accuracy: 0.4219 - val_loss: 1.5949\n",
      "Epoch 15/30\n",
      "21/21 - 0s - 5ms/step - accuracy: 0.4381 - loss: 1.5683 - val_accuracy: 0.4451 - val_loss: 1.5464\n",
      "Epoch 16/30\n",
      "21/21 - 0s - 5ms/step - accuracy: 0.4573 - loss: 1.5193 - val_accuracy: 0.4448 - val_loss: 1.5391\n",
      "Epoch 17/30\n",
      "21/21 - 0s - 5ms/step - accuracy: 0.4423 - loss: 1.5657 - val_accuracy: 0.4332 - val_loss: 1.5755\n",
      "Epoch 18/30\n",
      "21/21 - 0s - 5ms/step - accuracy: 0.4319 - loss: 1.5777 - val_accuracy: 0.4079 - val_loss: 1.6432\n",
      "Epoch 19/30\n",
      "21/21 - 0s - 5ms/step - accuracy: 0.3899 - loss: 1.7396 - val_accuracy: 0.4168 - val_loss: 1.6011\n",
      "Epoch 20/30\n",
      "21/21 - 0s - 5ms/step - accuracy: 0.4451 - loss: 1.5569 - val_accuracy: 0.4302 - val_loss: 1.6079\n",
      "Epoch 21/30\n",
      "21/21 - 0s - 5ms/step - accuracy: 0.3911 - loss: 1.7092 - val_accuracy: 0.3928 - val_loss: 1.6689\n",
      "Epoch 22/30\n",
      "21/21 - 0s - 5ms/step - accuracy: 0.4208 - loss: 1.6095 - val_accuracy: 0.4326 - val_loss: 1.5840\n",
      "Epoch 23/30\n",
      "21/21 - 0s - 5ms/step - accuracy: 0.4488 - loss: 1.5381 - val_accuracy: 0.4291 - val_loss: 1.5744\n",
      "Epoch 24/30\n",
      "21/21 - 0s - 5ms/step - accuracy: 0.4456 - loss: 1.5343 - val_accuracy: 0.4220 - val_loss: 1.6280\n",
      "Epoch 25/30\n",
      "21/21 - 0s - 5ms/step - accuracy: 0.3999 - loss: 1.6948 - val_accuracy: 0.4199 - val_loss: 1.6234\n",
      "Epoch 26/30\n",
      "21/21 - 0s - 5ms/step - accuracy: 0.3943 - loss: 1.6497 - val_accuracy: 0.4214 - val_loss: 1.5971\n",
      "Epoch 27/30\n",
      "21/21 - 0s - 5ms/step - accuracy: 0.4424 - loss: 1.5504 - val_accuracy: 0.4394 - val_loss: 1.5486\n",
      "Epoch 28/30\n",
      "21/21 - 0s - 5ms/step - accuracy: 0.4461 - loss: 1.5324 - val_accuracy: 0.4443 - val_loss: 1.5373\n",
      "Epoch 29/30\n",
      "21/21 - 0s - 5ms/step - accuracy: 0.4791 - loss: 1.4479 - val_accuracy: 0.4597 - val_loss: 1.5026\n",
      "Epoch 30/30\n",
      "21/21 - 0s - 5ms/step - accuracy: 0.4758 - loss: 1.4433 - val_accuracy: 0.4692 - val_loss: 1.4925\n",
      "CPU times: user 8.89 s, sys: 2.41 s, total: 11.3 s\n",
      "Wall time: 3.47 s\n"
     ]
    }
   ],
   "source": [
    "%%time\n",
    "\n",
    "epochs = 30\n",
    "batch_size = 300\n",
    "\n",
    "history = nonlinear_model.fit(x_test, y_test, batch_size=batch_size, epochs=epochs, verbose=2, validation_data=(x_val, y_val))"
   ]
  },
  {
   "cell_type": "code",
   "execution_count": 11,
   "metadata": {
    "id": "JOqeVmQduoPK"
   },
   "outputs": [],
   "source": [
    "training_loss = history.history['loss']\n",
    "validation_loss = history.history['val_loss']"
   ]
  },
  {
   "cell_type": "code",
   "execution_count": 12,
   "metadata": {
    "colab": {
     "base_uri": "https://localhost:8080/",
     "height": 718
    },
    "id": "X6nd7NkfuuVW",
    "outputId": "301a8e25-6431-4447-f4af-d24e67b35cad"
   },
   "outputs": [
    {
     "data": {
      "image/png": "[encoded data removed]",
      "text/plain": [
       "<Figure size 1000x800 with 1 Axes>"
      ]
     },
     "metadata": {},
     "output_type": "display_data"
    }
   ],
   "source": [
    "plt.figure(figsize=(10, 8))\n",
    "plt.plot(range(1, epochs + 1), training_loss, label='Training Loss')\n",
    "plt.plot(range(1, epochs + 1), validation_loss, label='Validation Loss')\n",
    "plt.title('Training and Validation Loss at Each Epoch')\n",
    "plt.xlabel('Epochs')\n",
    "plt.ylabel('Loss')\n",
    "plt.legend()\n",
    "plt.grid(True)\n",
    "plt.show()"
   ]
  },
  {
   "cell_type": "code",
   "execution_count": 13,
   "metadata": {
    "colab": {
     "base_uri": "https://localhost:8080/"
    },
    "id": "heZMtFLvno3d",
    "outputId": "ecb72ab6-227d-4e62-fed5-864a79184b47"
   },
   "outputs": [
    {
     "name": "stdout",
     "output_type": "stream",
     "text": [
      "1313/1313 - 0s - 332us/step - accuracy: 0.4604 - loss: 1.5224\n",
      "compile_metrics: 46.04%\n",
      "188/188 - 0s - 360us/step - accuracy: 0.4999 - loss: 1.3906\n",
      "compile_metrics: 49.99%\n",
      "375/375 - 0s - 339us/step - accuracy: 0.4692 - loss: 1.4925\n",
      "compile_metrics: 46.92%\n"
     ]
    }
   ],
   "source": [
    "nonlinscores = nonlinear_model.evaluate(x_train, y_train, verbose=2)\n",
    "print(\"%s: %.2f%%\" % (nonlinear_model.metrics_names[1], nonlinscores[1]*100))\n",
    "\n",
    "nonlinscores = nonlinear_model.evaluate(x_test, y_test, verbose=2)\n",
    "print(\"%s: %.2f%%\" % (nonlinear_model.metrics_names[1], nonlinscores[1]*100))\n",
    "\n",
    "nonlinscores = nonlinear_model.evaluate(x_val, y_val, verbose=2)\n",
    "print(\"%s: %.2f%%\" % (nonlinear_model.metrics_names[1], nonlinscores[1]*100))"
   ]
  },
  {
   "cell_type": "code",
   "execution_count": 14,
   "metadata": {
    "id": "o6p_KKMkUMp3"
   },
   "outputs": [],
   "source": [
    " # def show_failures(predictions, trueclass=None, predictedclass=None, maxtoshow=10):\n",
    "#     rounded = np.argmax(predictions, axis=1)\n",
    "#     errors = rounded!=y_true\n",
    "#     print('Showing max', maxtoshow, 'first failures. '\n",
    "#           'The predicted class is shown first and the correct class in parenthesis.')\n",
    "#     ii = 0\n",
    "#     plt.figure(figsize=(maxtoshow, 1))\n",
    "#     for i in range(x_test.shape[0]):\n",
    "#         if ii>=maxtoshow:\n",
    "#             break\n",
    "#         if errors[i]:\n",
    "#             if trueclass is not None and y_test[i] != trueclass:\n",
    "#                 continue\n",
    "#             if predictedclass is not None and rounded[i] != predictedclass:\n",
    "#                 continue\n",
    "#             plt.subplot(1, maxtoshow, ii+1)\n",
    "#             plt.axis('off')\n",
    "#             plt.imshow(x_test[i,:,:], cmap=\"gray\")\n",
    "#             plt.title(\"%d (%d)\" % (rounded[i], y_test[i]))\n",
    "#             ii = ii + 1"
   ]
  },
  {
   "cell_type": "code",
   "execution_count": 15,
   "metadata": {
    "id": "tuvIkdJo_Kwu"
   },
   "outputs": [],
   "source": [
    "def show_failures(predictions, trueclass=None, predictedclass=None, maxtoshow=10, y_true=None): # Added y_true parameter\n",
    "    rounded = np.argmax(predictions, axis=1)\n",
    "    errors = rounded!=y_true # Use the y_true passed to the function\n",
    "    print('Showing max', maxtoshow, 'first failures. '\n",
    "          'The predicted class is shown first and the correct class in parenthesis.')\n",
    "    ii = 0\n",
    "    plt.figure(figsize=(maxtoshow, 1))\n",
    "    for i in range(x_test.shape[0]):\n",
    "        if ii>=maxtoshow:\n",
    "            break\n",
    "        if errors[i]:\n",
    "            if trueclass is not None and y_test[i] != trueclass:\n",
    "                continue\n",
    "            if predictedclass is not None and rounded[i] != predictedclass:\n",
    "                continue\n",
    "            plt.subplot(1, maxtoshow, ii+1)\n",
    "            plt.axis('off')\n",
    "            plt.imshow(x_test[i,:,:], cmap=\"gray\")\n",
    "            plt.title(\"%d (%d)\" % (rounded[i], y_test[i]))\n",
    "            ii = ii + 1"
   ]
  },
  {
   "cell_type": "code",
   "execution_count": 16,
   "metadata": {
    "colab": {
     "base_uri": "https://localhost:8080/",
     "height": 356
    },
    "id": "FBRglQpVYsJb",
    "outputId": "882f56df-a0a2-460c-a863-4e30a0be2571"
   },
   "outputs": [
    {
     "name": "stdout",
     "output_type": "stream",
     "text": [
      "\u001b[1m188/188\u001b[0m \u001b[32m━━━━━━━━━━━━━━━━━━━━\u001b[0m\u001b[37m\u001b[0m \u001b[1m0s\u001b[0m 393us/step\n"
     ]
    },
    {
     "ename": "ValueError",
     "evalue": "operands could not be broadcast together with shapes (6001,) (6001,10) ",
     "output_type": "error",
     "traceback": [
      "\u001b[0;31m---------------------------------------------------------------------------\u001b[0m",
      "\u001b[0;31mValueError\u001b[0m                                Traceback (most recent call last)",
      "Cell \u001b[0;32mIn[16], line 3\u001b[0m\n\u001b[1;32m      1\u001b[0m nonlinpredictions \u001b[38;5;241m=\u001b[39m nonlinear_model\u001b[38;5;241m.\u001b[39mpredict(x_test)\n\u001b[0;32m----> 3\u001b[0m \u001b[43mshow_failures\u001b[49m\u001b[43m(\u001b[49m\u001b[43mnonlinpredictions\u001b[49m\u001b[43m,\u001b[49m\u001b[43m \u001b[49m\u001b[43my_true\u001b[49m\u001b[38;5;241;43m=\u001b[39;49m\u001b[43my_test\u001b[49m\u001b[43m)\u001b[49m \u001b[38;5;66;03m# Pass y_test to the function\u001b[39;00m\n",
      "Cell \u001b[0;32mIn[15], line 3\u001b[0m, in \u001b[0;36mshow_failures\u001b[0;34m(predictions, trueclass, predictedclass, maxtoshow, y_true)\u001b[0m\n\u001b[1;32m      1\u001b[0m \u001b[38;5;28;01mdef\u001b[39;00m \u001b[38;5;21mshow_failures\u001b[39m(predictions, trueclass\u001b[38;5;241m=\u001b[39m\u001b[38;5;28;01mNone\u001b[39;00m, predictedclass\u001b[38;5;241m=\u001b[39m\u001b[38;5;28;01mNone\u001b[39;00m, maxtoshow\u001b[38;5;241m=\u001b[39m\u001b[38;5;241m10\u001b[39m, y_true\u001b[38;5;241m=\u001b[39m\u001b[38;5;28;01mNone\u001b[39;00m): \u001b[38;5;66;03m# Added y_true parameter\u001b[39;00m\n\u001b[1;32m      2\u001b[0m     rounded \u001b[38;5;241m=\u001b[39m np\u001b[38;5;241m.\u001b[39margmax(predictions, axis\u001b[38;5;241m=\u001b[39m\u001b[38;5;241m1\u001b[39m)\n\u001b[0;32m----> 3\u001b[0m     errors \u001b[38;5;241m=\u001b[39m \u001b[43mrounded\u001b[49m\u001b[38;5;241;43m!=\u001b[39;49m\u001b[43my_true\u001b[49m \u001b[38;5;66;03m# Use the y_true passed to the function\u001b[39;00m\n\u001b[1;32m      4\u001b[0m     \u001b[38;5;28mprint\u001b[39m(\u001b[38;5;124m'\u001b[39m\u001b[38;5;124mShowing max\u001b[39m\u001b[38;5;124m'\u001b[39m, maxtoshow, \u001b[38;5;124m'\u001b[39m\u001b[38;5;124mfirst failures. \u001b[39m\u001b[38;5;124m'\u001b[39m\n\u001b[1;32m      5\u001b[0m           \u001b[38;5;124m'\u001b[39m\u001b[38;5;124mThe predicted class is shown first and the correct class in parenthesis.\u001b[39m\u001b[38;5;124m'\u001b[39m)\n\u001b[1;32m      6\u001b[0m     ii \u001b[38;5;241m=\u001b[39m \u001b[38;5;241m0\u001b[39m\n",
      "\u001b[0;31mValueError\u001b[0m: operands could not be broadcast together with shapes (6001,) (6001,10) "
     ]
    }
   ],
   "source": [
    "nonlinpredictions = nonlinear_model.predict(x_test)\n",
    "\n",
    "show_failures(nonlinpredictions, y_true=y_test) # Pass y_test to the function"
   ]
  },
  {
   "cell_type": "code",
   "execution_count": null,
   "metadata": {
    "colab": {
     "base_uri": "https://localhost:8080/",
     "height": 160
    },
    "id": "bA3GAhdxVVId",
    "outputId": "74f0dc58-554c-4a38-e306-340daa32153f"
   },
   "outputs": [],
   "source": [
    "nonlinpredictions = nonlinear_model.predict(x_train)\n",
    "\n",
    "show_failures(nonlinpredictions, y_true=y_train) # Pass y_train to the function"
   ]
  }
 ],
 "metadata": {
  "colab": {
   "provenance": []
  },
  "kernelspec": {
   "display_name": "Python 3 (ipykernel)",
   "language": "python",
   "name": "python3"
  },
  "language_info": {
   "codemirror_mode": {
    "name": "ipython",
    "version": 3
   },
   "file_extension": ".py",
   "mimetype": "text/x-python",
   "name": "python",
   "nbconvert_exporter": "python",
   "pygments_lexer": "ipython3",
   "version": "3.11.4"
  }
 },
 "nbformat": 4,
 "nbformat_minor": 4
}
